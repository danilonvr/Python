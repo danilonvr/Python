{
 "cells": [
  {
   "cell_type": "code",
   "execution_count": 17,
   "id": "16eeecc6",
   "metadata": {
    "scrolled": true
   },
   "outputs": [
    {
     "name": "stdout",
     "output_type": "stream",
     "text": [
      "         Contato                                  Mensagem\n",
      "0  5561998232332  Boa tarde, fique aqui com esta mensagem:\n",
      "1  5561996045544  Boa tarde, fique aqui com esta mensagem:\n",
      "2  5561996322333  Boa tarde, fique aqui com esta mensagem:\n"
     ]
    }
   ],
   "source": [
    "import pandas as pd\n",
    "from selenium import webdriver\n",
    "from selenium.webdriver.common.by import By\n",
    "from selenium.webdriver.support.ui import WebDriverWait\n",
    "from selenium.webdriver.support import expected_conditions as EC\n",
    "from selenium.webdriver.common.keys import Keys\n",
    "import urllib\n",
    "import time\n",
    "\n",
    "#ler a planilha\n",
    "xlsx = pd.read_excel('Contatos.xlsx')\n",
    "print (xlsx)"
   ]
  },
  {
   "cell_type": "code",
   "execution_count": 18,
   "id": "41366d82",
   "metadata": {},
   "outputs": [
    {
     "name": "stdout",
     "output_type": "stream",
     "text": [
      "Aperte enter quando o whatsapp já estiver logado\n",
      "Mensagem enviada para 5561998232332\n",
      "Mensagem enviada para 5561996045544\n",
      "Mensagem enviada para 5561996322333\n"
     ]
    }
   ],
   "source": [
    "#webdriver\n",
    "driver = webdriver.Chrome()\n",
    "driver.get(\"https://web.whatsapp.com/\")\n",
    "\n",
    "#aguardar a leitura do QR CODE\n",
    "input(\"Aperte enter quando o whatsapp já estiver logado\")\n",
    "\n",
    "#Armazenar informações em variáveis\n",
    "for i,mensagem in enumerate(xlsx['Mensagem']):\n",
    "    numero_contato = xlsx.loc[i,'Contato']\n",
    "    texto = urllib.parse.quote(mensagem)\n",
    "    link = f'https://web.whatsapp.com/send?phone={numero_contato}&text={texto}'\n",
    "    driver.get(link)\n",
    "    try:\n",
    "        element = WebDriverWait(driver, 15).until(\n",
    "        EC.presence_of_element_located((By.XPATH, '//*[@id=\"main\"]/footer/div[1]/div/span[2]/div/div[2]/div[1]/div/div/p/span'))\n",
    "    )\n",
    "        element.send_keys(Keys.ENTER)\n",
    "        time.sleep(10)\n",
    "\n",
    "    finally:\n",
    "        print(f\"Mensagem enviada para {numero_contato}\")"
   ]
  },
  {
   "cell_type": "code",
   "execution_count": null,
   "id": "d3ccc4d5",
   "metadata": {},
   "outputs": [],
   "source": []
  }
 ],
 "metadata": {
  "kernelspec": {
   "display_name": "Python 3 (ipykernel)",
   "language": "python",
   "name": "python3"
  },
  "language_info": {
   "codemirror_mode": {
    "name": "ipython",
    "version": 3
   },
   "file_extension": ".py",
   "mimetype": "text/x-python",
   "name": "python",
   "nbconvert_exporter": "python",
   "pygments_lexer": "ipython3",
   "version": "3.9.13"
  }
 },
 "nbformat": 4,
 "nbformat_minor": 5
}
