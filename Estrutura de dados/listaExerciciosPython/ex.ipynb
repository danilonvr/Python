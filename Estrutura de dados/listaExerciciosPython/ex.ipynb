{
 "cells": [
  {
   "attachments": {},
   "cell_type": "markdown",
   "metadata": {},
   "source": [
    "### Códigos referentes à lista de exercícios de estrutura de dados, em Python\n",
    "\n",
    "Primeira leva de exercícios: Vetores"
   ]
  },
  {
   "cell_type": "code",
   "execution_count": null,
   "metadata": {},
   "outputs": [],
   "source": [
    "vetor = []\n",
    "quantidade = int(input(\"Digite quantos números estarão no vetor:\"))\n",
    "for i in range(quantidade):\n",
    "    vetor.append(int(input(f\"Digite o {i+1}º número do vetor:\")))\n",
    "## letra a) Maior e menor número do vetor:\n",
    "print(\"Aqui está a sua lista:\" ,vetor)\n",
    "print(f\"O Maior número do vetor é {max(vetor)} e o menor número do vetor é {min(vetor)}\")\n",
    "## letra b) Criar outro vetor e somar os valores dos dois vetores:\n",
    "vetorLetraB = []\n",
    "print(\"Agora você vai preencher um segundo vetor com o mesmo número de elementos do primeiro, e vamos somar os valores:\")\n",
    "for i in range(quantidade):\n",
    "    vetorLetraB.append(int(input(f\"Digite o {i+1}º número do segundo vetor:\")))\n",
    "vetorSoma = []\n",
    "print(\"Somando...\")\n",
    "for i in range(quantidade):\n",
    "    vetorSoma.append(vetor[i] + vetorLetraB[i])\n",
    "print(\"Aqui está a lista de vetores somados:\\n\",vetorSoma)\n",
    "## letra c) ler x números de elementos do vetor:\n",
    "print(\"Agora vamos ler x números de elementos do vetor, em ordem crescente:\")\n",
    "quantidadeLetraC = int(input(\"Digite quantos números você quer ler do vetor:\"))\n",
    "for i in range(quantidadeLetraC):\n",
    "    print(f\"Posição {i}: {vetor[i]}\")\n",
    "#letra d) verificar se o vetor está em ordem crescente:\n",
    "print(\"Agora vamos verificar se o vetor está em ordem crescente:\")\n",
    "if vetor == sorted(vetor):\n",
    "    print(\"O vetor está em ordem crescente!\")\n",
    "else:\n",
    "    print(\"O vetor não está em ordem crescente!\")\n",
    "    print(\"A ordem crescente seria:\\n\",sorted(vetor))\n",
    "#letra e) verificar se existe algum número específico no vetor:\n",
    "print(\"VERIFICAÇÃO DE NÚMERO...Vamos ver se o número que você digitar existe no vetor!\")\n",
    "numeroEspecifico = int(input(\"Digite um número:\"))\n",
    "if numeroEspecifico in vetor:\n",
    "    print(f\"O número {numeroEspecifico} existe no vetor!\")\n",
    "else:\n",
    "    print(f\"O número {numeroEspecifico} não existe no vetor!\")\n",
    "print(\"Fim da letra a! Obrigado por utilizar o programa!\")"
   ]
  },
  {
   "attachments": {},
   "cell_type": "markdown",
   "metadata": {},
   "source": [
    "Segunda leva de exercícios: Matrizes"
   ]
  },
  {
   "cell_type": "code",
   "execution_count": null,
   "metadata": {},
   "outputs": [],
   "source": [
    "matriz = []\n",
    "print(\"Vamos criar uma matriz 3x3!\")\n",
    "for i in range(3):\n",
    "    matriz.append([])\n",
    "    for j in range(3):\n",
    "        matriz[i].append(int(input(f\"Digite o número da Linha [{i+1}], da coluna[{j+1}]:\")))\n",
    "print(\"Aqui está a sua matriz:\\n\",matriz)\n",
    "#letra a) printar a diagonal principal:\n",
    "print(\"Aqui está a diagonal principal da matriz:\")\n",
    "for i in range(3):\n",
    "    print(matriz[i][i])\n",
    "#letra b) criar uma outra matriz, e fazer a soma das duas matrizes:\n",
    "matriz2 = []\n",
    "print(\"Agora vamos criar uma segunda matriz 3x3!\")\n",
    "for i in range(3):\n",
    "    matriz2.append([])\n",
    "    for j in range(3):\n",
    "        matriz2[i].append(int(input(f\"Digite o número da Linha [{i+1}], da coluna[{j+1}]:\")))\n",
    "print(\"Aqui está a sua segunda matriz:\\n\",matriz2)\n",
    "matrizSoma = []\n",
    "print(\"Somando as matrizes...\")\n",
    "for i in range(3):\n",
    "    matrizSoma.append([])\n",
    "    for j in range(3):\n",
    "        matrizSoma[i].append(matriz[i][j] + matriz2[i][j])\n",
    "print(\"Aqui está a matriz soma:\\n\",matrizSoma)\n",
    "#letra c) printar a matriz transposta:\n",
    "print(\"Aqui está a matriz transposta:\")\n",
    "for i in range(3):\n",
    "    for j in range(3):\n",
    "        # o parâmetro end=\" \" serve para não pular linha no print, ou seja, ele irá finalizar o print com um espaço em branco, que foi definido no parâmetro end\n",
    "        print(matriz[j][i],end=\" \")\n",
    "    # o print() serve para pular linha, após o fim do for interno\n",
    "    print()\n",
    "#letra d) verificar se a matriz identidade:\n",
    "print(\"Agora vamos verificar se a matriz é identidade:\")\n",
    "#a variável identidade foi criada com o intuito de evitar a repetição do print, dentro do for, caso a condição seja falsa ou verdadeira. Com isso, podemos utilizar a variável identidade para imprimir o resultado final, fora do for.\n",
    "identidade = True\n",
    "for i in range(3):\n",
    "    for j in range(3):\n",
    "        if i == j and matriz[i][j] != 1:\n",
    "            identidade = False\n",
    "        if i != j and matriz[i][j] != 0:\n",
    "            identidade = False\n",
    "if identidade:\n",
    "    print(\"A matriz é identidade!\")\n",
    "else:\n",
    "    print(\"A matriz não é identidade! ela seria apenas se o valor fosse 1 na diagonal principal e 0 nos outros valores!\")\n",
    "#letra e) encontrar o maior valor de cada linha da matriz:\n",
    "print(\"Agora vamos encontrar o maior valor de cada linha da matriz:\")\n",
    "for i in range(3):\n",
    "    print(f\"A maior linha da linha {i+1} é {max(matriz[i])}\")\n",
    "\n"
   ]
  },
  {
   "attachments": {},
   "cell_type": "markdown",
   "metadata": {},
   "source": [
    "Terceira leva de exercícios: Tuplas"
   ]
  },
  {
   "cell_type": "code",
   "execution_count": 11,
   "metadata": {},
   "outputs": [
    {
     "ename": "TypeError",
     "evalue": "can only concatenate tuple (not \"int\") to tuple",
     "output_type": "error",
     "traceback": [
      "\u001b[0;31m---------------------------------------------------------------------------\u001b[0m",
      "\u001b[0;31mTypeError\u001b[0m                                 Traceback (most recent call last)",
      "Cell \u001b[0;32mIn[11], line 4\u001b[0m\n\u001b[1;32m      2\u001b[0m quantidade \u001b[39m=\u001b[39m \u001b[39mint\u001b[39m(\u001b[39minput\u001b[39m(\u001b[39m\"\u001b[39m\u001b[39mDigite quantos números estarão na tupla:\u001b[39m\u001b[39m\"\u001b[39m))\n\u001b[1;32m      3\u001b[0m \u001b[39mfor\u001b[39;00m i \u001b[39min\u001b[39;00m \u001b[39mrange\u001b[39m(quantidade):\n\u001b[0;32m----> 4\u001b[0m     tupla \u001b[39m+\u001b[39;49m\u001b[39m=\u001b[39;49m (\u001b[39mint\u001b[39;49m(\u001b[39minput\u001b[39;49m(\u001b[39mf\u001b[39;49m\u001b[39m\"\u001b[39;49m\u001b[39mDigite o \u001b[39;49m\u001b[39m{\u001b[39;49;00mi\u001b[39m+\u001b[39;49m\u001b[39m1\u001b[39;49m\u001b[39m}\u001b[39;49;00m\u001b[39mº número da tupla:\u001b[39;49m\u001b[39m\"\u001b[39;49m)))\n\u001b[1;32m      5\u001b[0m \u001b[39mprint\u001b[39m(\u001b[39m\"\u001b[39m\u001b[39mAqui está a sua tupla:\u001b[39m\u001b[39m\\n\u001b[39;00m\u001b[39m\"\u001b[39m,tupla)\n\u001b[1;32m      6\u001b[0m \u001b[39m#letra a) Exibir apenas os números pares da tupla:\u001b[39;00m\n",
      "\u001b[0;31mTypeError\u001b[0m: can only concatenate tuple (not \"int\") to tuple"
     ]
    }
   ],
   "source": [
    "tupla = ()\n",
    "quantidade = int(input(\"Digite quantos números estarão na tupla:\"))\n",
    "for i in range(quantidade):\n",
    "    tupla += (int(input(f\"Digite o {i+1}º número da tupla:\")))\n",
    "print(\"Aqui está a sua tupla:\\n\",tupla)\n",
    "#letra a) Exibir apenas os números pares da tupla:\n",
    "print(f\"Os números pares da tupla são:\")\n",
    "for i in range(quantidade):\n",
    "    if tupla[i] % 2 == 0:\n",
    "        print(tupla[i], end=\" \")\n",
    "#letra b) Criar outra tupla e intercalar os valores das duas tuplas:\n",
    "tupla2 = ()\n",
    "for i in range(quantidade):\n",
    "    tupla2 += (int(input(f\"Digite o {i+1}º número da segunda tupla:\")))\n",
    "print(\"Está é a segunda tupla:\\n\",tupla2)\n",
    "tuplaIntercalada = ()\n",
    "for i in range(quantidade):\n",
    "    tuplaIntercalada += (tupla[i],tupla2[i])\n",
    "print(\"Aqui está a tupla soma:\\n\",tuplaIntercalada)\n",
    "#letra c) valor máximo e mínimo da tupla:\n",
    "print(f\"O maior número da primeira tupla é {max(tupla)} e o menor número da tupla é {min(tupla)}\")\n",
    "#letra d) Ler uma tupla, e criar uma nova, com valores únicos:\n",
    "tuplaNova = ()\n",
    "quantidadeTuplaNova = int(input(\"Digite quantos números estarão na nova tupla:\"))\n",
    "for i in range(quantidadeTuplaNova):\n",
    "    tuplaNova += (int(input(f\"Digite o {i+1}º número da nova tupla:\")))\n",
    "    if tuplaNova not in tupla:\n",
    "        print(f\"número {tuplaNova} adicionado com sucesso!\")\n",
    "    else:\n",
    "        print(f\"número {tuplaNova} já existe na tupla e não será adicionado, passando para o próximo...\")\n",
    "print(\"Aqui está a tupla nova:\\n\",tuplaNova)\n",
    "#letra e) verificar se um número específico está na tupla:\n",
    "print(\"VERIFICAÇÃO DE NÚMERO...Vamos ver se o número que você digitar existe na tupla!\")\n",
    "numeroEspecifico = int(input(\"Digite um número:\"))\n",
    "if numeroEspecifico in tupla:\n",
    "    print(f\"O número {numeroEspecifico} existe na tupla!\")\n",
    "else:\n",
    "    print(f\"O número {numeroEspecifico} não existe na tupla!\")\n",
    "\n",
    "\n"
   ]
  }
 ],
 "metadata": {
  "kernelspec": {
   "display_name": "Python 3",
   "language": "python",
   "name": "python3"
  },
  "language_info": {
   "codemirror_mode": {
    "name": "ipython",
    "version": 3
   },
   "file_extension": ".py",
   "mimetype": "text/x-python",
   "name": "python",
   "nbconvert_exporter": "python",
   "pygments_lexer": "ipython3",
   "version": "3.11.2"
  },
  "orig_nbformat": 4
 },
 "nbformat": 4,
 "nbformat_minor": 2
}
