{
 "cells": [
  {
   "attachments": {},
   "cell_type": "markdown",
   "metadata": {},
   "source": [
    "A primeiro momento, é necessário criar a variável frota, e inserir nela a quantidade de caminhões que ela terá"
   ]
  },
  {
   "cell_type": "code",
   "execution_count": 51,
   "metadata": {},
   "outputs": [
    {
     "name": "stdout",
     "output_type": "stream",
     "text": [
      "[[], []]\n"
     ]
    }
   ],
   "source": [
    "frota = []\n",
    "quantidade_frota = int(input('Quantos caminhões você deseja utilizar? '))\n",
    "for i in range(quantidade_frota):\n",
    "    frota.append([])\n",
    "print(frota)"
   ]
  },
  {
   "attachments": {},
   "cell_type": "markdown",
   "metadata": {},
   "source": [
    "Agora, é preciso saber quantas mercadorias cada caminhão pode levar"
   ]
  },
  {
   "cell_type": "code",
   "execution_count": 52,
   "metadata": {},
   "outputs": [
    {
     "name": "stdout",
     "output_type": "stream",
     "text": [
      "[[[], []], [[]]]\n"
     ]
    }
   ],
   "source": [
    "for i in range(quantidade_frota):\n",
    "    quantidade_mercadoria_caminhao = int(input(f'Quantas mercadorias você deseja colocar no caminhão {i+1}? '))\n",
    "    for j in range(quantidade_mercadoria_caminhao):\n",
    "        frota[i].append([])\n",
    "print(frota)"
   ]
  },
  {
   "attachments": {},
   "cell_type": "markdown",
   "metadata": {},
   "source": [
    "Agora, vamos inserir as mercadorias em cada um dos caminhões. O limite de inserção é feito com base na quantidade de mercadorias que o caminhão pode suportar"
   ]
  },
  {
   "cell_type": "code",
   "execution_count": 55,
   "metadata": {},
   "outputs": [
    {
     "name": "stdout",
     "output_type": "stream",
     "text": [
      "Aqui estão os caminhões e seus respectivos produtos: \n",
      "Caminhão 1:\n",
      "['j', 4.0, 4.0, 'j', 1.0, 1.0, 'j', 1.0, 1.0]\n",
      "['j', 5.0, 5.0, 'j', 1.0, 1.0, 'j', 1.0, 1.0]\n",
      "Caminhão 2:\n",
      "['q', 4.0, 5.0]\n"
     ]
    }
   ],
   "source": [
    "for i in range(quantidade_frota):\n",
    "    for j in range(len(frota[i])):\n",
    "        nome = input(f'Caminhão {i+1}, mercadoria {j+1}: Nome do produto: ')\n",
    "        peso = float(input(f'Caminhão {i+1}, mercadoria {j+1}: Peso do produto, em kg: '))\n",
    "        valor = float(input(f'Caminhão {i+1}, mercadoria {j+1}: Valor do produto, em reais: '))\n",
    "        frota[i][j].append(nome)\n",
    "        frota[i][j].append(peso)\n",
    "        frota[i][j].append(valor)\n",
    "print(\"Aqui estão os caminhões e seus respectivos produtos: \")\n",
    "for i in range(quantidade_frota):\n",
    "    print(f'Caminhão {i + 1}:')\n",
    "    for j in range(len(frota[i])):\n",
    "        print(frota[i][j])"
   ]
  },
  {
   "cell_type": "code",
   "execution_count": null,
   "metadata": {},
   "outputs": [],
   "source": [
    "mercadoria = int(input('Quantos produtos você deseja armazenar? '))\n",
    "for i in range(mercadoria):\n",
    "    escolha_caminhao = int(input (f'Qual caminhão você deseja utilizar para armazenar o produto {i +1}? '))\n",
    "    if escolha_caminhao > quantidade_frota or escolha_caminhao < 1:\n",
    "        print('Caminhão inexistente')\n",
    "        break\n",
    "    elif mercadoria > quantidade_mercadoria_caminhao:\n",
    "        print('Caminhão cheio')\n",
    "        break\n",
    "    else:\n",
    "        escolha_caminhao -= 1\n",
    "        nome = input('Nome do produto: ')\n",
    "        peso = float(input('Peso do produto em kg: '))\n",
    "        valor = float(input('Valor do produto em reais: '))\n",
    "        frota[escolha_caminhao].append(nome)\n",
    "        frota[escolha_caminhao].append(peso)\n",
    "        frota[escolha_caminhao].append(valor)\n",
    "print(\"Aqui estão os caminhões e seus respectivos produtos: \")\n",
    "for i in range(quantidade_frota):\n",
    "    print(f'Caminhão {i + 1}:')\n",
    "    for j in range(len(frota[i])):\n",
    "        print(frota[i][j])"
   ]
  }
 ],
 "metadata": {
  "kernelspec": {
   "display_name": "Python 3",
   "language": "python",
   "name": "python3"
  },
  "language_info": {
   "codemirror_mode": {
    "name": "ipython",
    "version": 3
   },
   "file_extension": ".py",
   "mimetype": "text/x-python",
   "name": "python",
   "nbconvert_exporter": "python",
   "pygments_lexer": "ipython3",
   "version": "3.11.1"
  },
  "orig_nbformat": 4,
  "vscode": {
   "interpreter": {
    "hash": "46f5b8a5ff069dc3b847251c1a15bb89586aad708d14ba1b116f11c6cb9361f8"
   }
  }
 },
 "nbformat": 4,
 "nbformat_minor": 2
}
