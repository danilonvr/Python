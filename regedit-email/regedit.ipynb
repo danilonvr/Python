{
 "cells": [
  {
   "cell_type": "code",
   "execution_count": 8,
   "metadata": {},
   "outputs": [
    {
     "name": "stdout",
     "output_type": "stream",
     "text": [
      "ruama@piauimilhos.com.br;carlafreitas@memps.com.br;wendellgd@gmail.com;mbertolinacosta@gmail.com;lilian@eletricavisao.com.br;itaiara@eletricavisao.com.br;luis.ferreira@inaed.com;edivarsales@gmail.com;edimar.souza@distribuidoramedeiros.com.br;alisson.silveira@pilare.com.br;krismendes89@gmail.com;carlagomes@superavitcontabilidade.com.br;francisca.mendes@alergocenter.com.br;ednalva@rev.com.br;camila.balluz@upaon.com.br;alexandredamiao00@gmail.com;alzenira.coelho@kairosmotores.com;ribamar.cirqueira@kairosmotores.com;mauricio.coelho@kairosmotores.com;marcela.amate@kairosmotores.com;gustavo.cirqueira@kairosmotores.com;rcdeusdara@hotmail.com;fontess@gmail.com;samira.castro@alergocenter.com.br;victoria@alfaengengariama.com.br;franklin@eletricavisao.com.br;andrearp2309@gmail.com;anna.rhaabe@gmail.com;eroneidelisboa@hotmail.com;lbmatos_75@hotmail.com;isabella.pires@markaeng.com.br;eusouveramartins@gmail.com;pe@fbeempresas.com.br;syen@terra.com.br;daniel@cernitas.com.br;fernandocarneiro_@hotmail.com;lucia@cernitas.com.br;diretoria@batistaonline.com.br;claudianediniz@gmail.com;raquel@lastroengenharia.com.br;claudiarodrigues2r@gmail.com;fernando.rios@silvasales.com.br;camilammrocha@gmail.com;glicia@gentilnegocios.com.br;klaudiacosta@me.com;thiago.sjdp@gmail.com;pe@fbeempesas.com.br;tiago.castro@hospitalsaodomingos.com.br;teixeira.ayrllon@gmail.com;fontourha@gmail.com;campos.gt@gmail.com\n"
     ]
    }
   ],
   "source": [
    "import re\n",
    "from openpyxl import load_workbook\n",
    "\n",
    "# Carrega o arquivo Excel\n",
    "workbook = load_workbook(filename='subscribers_9_1678384976.xlsx')\n",
    "\n",
    "# Seleciona a planilha\n",
    "sheet = workbook.active\n",
    "\n",
    "# Armazena os e-mails em um vetor\n",
    "emails = []\n",
    "for row in sheet.iter_rows(min_row=2, values_only=True):\n",
    "    email = row[7]  # Coluna \"e-mail\" é a terceira coluna\n",
    "    if email:\n",
    "        emails.append(email)\n",
    "\n",
    "# Separa os e-mails por \";\"\n",
    "email_string = ';'.join(emails)\n",
    "\n",
    "# Printa o resultado\n",
    "print(email_string)\n"
   ]
  }
 ],
 "metadata": {
  "kernelspec": {
   "display_name": "Python 3",
   "language": "python",
   "name": "python3"
  },
  "language_info": {
   "codemirror_mode": {
    "name": "ipython",
    "version": 3
   },
   "file_extension": ".py",
   "mimetype": "text/x-python",
   "name": "python",
   "nbconvert_exporter": "python",
   "pygments_lexer": "ipython3",
   "version": "3.11.2"
  },
  "orig_nbformat": 4
 },
 "nbformat": 4,
 "nbformat_minor": 2
}
